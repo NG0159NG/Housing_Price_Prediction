{
 "cells": [
  {
   "cell_type": "markdown",
   "id": "e0b2b4e1",
   "metadata": {},
   "source": [
    "# 1. Import dependencies & data"
   ]
  },
  {
   "cell_type": "code",
   "execution_count": 1,
   "id": "b5788f40",
   "metadata": {},
   "outputs": [],
   "source": [
    "import numpy as np\n",
    "import pandas as pd\n",
    "from pandasql import sqldf\n",
    "import matplotlib.pyplot as plt\n",
    "import seaborn as sns\n",
    "#%matplotlib inline"
   ]
  },
  {
   "cell_type": "code",
   "execution_count": 13,
   "id": "48048199",
   "metadata": {},
   "outputs": [],
   "source": [
    "train_data = pd.read_csv(\"D://Datasets/Housing_Price_Dataset/train.csv\")\n",
    "test_data = pd.read_csv(\"D://Datasets/Housing_Price_Dataset/test.csv\")"
   ]
  },
  {
   "cell_type": "code",
   "execution_count": 14,
   "id": "0fcb1b83",
   "metadata": {},
   "outputs": [
    {
     "data": {
      "text/html": [
       "<div>\n",
       "<style scoped>\n",
       "    .dataframe tbody tr th:only-of-type {\n",
       "        vertical-align: middle;\n",
       "    }\n",
       "\n",
       "    .dataframe tbody tr th {\n",
       "        vertical-align: top;\n",
       "    }\n",
       "\n",
       "    .dataframe thead th {\n",
       "        text-align: right;\n",
       "    }\n",
       "</style>\n",
       "<table border=\"1\" class=\"dataframe\">\n",
       "  <thead>\n",
       "    <tr style=\"text-align: right;\">\n",
       "      <th></th>\n",
       "      <th>Id</th>\n",
       "      <th>BldgType</th>\n",
       "      <th>OverallQual</th>\n",
       "      <th>GrLivArea</th>\n",
       "      <th>GarageArea</th>\n",
       "      <th>SalePrice</th>\n",
       "    </tr>\n",
       "  </thead>\n",
       "  <tbody>\n",
       "    <tr>\n",
       "      <th>0</th>\n",
       "      <td>1</td>\n",
       "      <td>1Fam</td>\n",
       "      <td>7</td>\n",
       "      <td>1710</td>\n",
       "      <td>548</td>\n",
       "      <td>208500</td>\n",
       "    </tr>\n",
       "    <tr>\n",
       "      <th>1</th>\n",
       "      <td>2</td>\n",
       "      <td>1Fam</td>\n",
       "      <td>6</td>\n",
       "      <td>1262</td>\n",
       "      <td>460</td>\n",
       "      <td>181500</td>\n",
       "    </tr>\n",
       "    <tr>\n",
       "      <th>2</th>\n",
       "      <td>3</td>\n",
       "      <td>1Fam</td>\n",
       "      <td>7</td>\n",
       "      <td>1786</td>\n",
       "      <td>608</td>\n",
       "      <td>223500</td>\n",
       "    </tr>\n",
       "    <tr>\n",
       "      <th>3</th>\n",
       "      <td>4</td>\n",
       "      <td>1Fam</td>\n",
       "      <td>7</td>\n",
       "      <td>1717</td>\n",
       "      <td>642</td>\n",
       "      <td>140000</td>\n",
       "    </tr>\n",
       "    <tr>\n",
       "      <th>4</th>\n",
       "      <td>5</td>\n",
       "      <td>1Fam</td>\n",
       "      <td>8</td>\n",
       "      <td>2198</td>\n",
       "      <td>836</td>\n",
       "      <td>250000</td>\n",
       "    </tr>\n",
       "  </tbody>\n",
       "</table>\n",
       "</div>"
      ],
      "text/plain": [
       "   Id BldgType  OverallQual  GrLivArea  GarageArea  SalePrice\n",
       "0   1     1Fam            7       1710         548     208500\n",
       "1   2     1Fam            6       1262         460     181500\n",
       "2   3     1Fam            7       1786         608     223500\n",
       "3   4     1Fam            7       1717         642     140000\n",
       "4   5     1Fam            8       2198         836     250000"
      ]
     },
     "execution_count": 14,
     "metadata": {},
     "output_type": "execute_result"
    }
   ],
   "source": [
    "train_data.head()"
   ]
  },
  {
   "cell_type": "code",
   "execution_count": 15,
   "id": "788a3bd7",
   "metadata": {},
   "outputs": [
    {
     "name": "stdout",
     "output_type": "stream",
     "text": [
      "<class 'pandas.core.frame.DataFrame'>\n",
      "RangeIndex: 1000 entries, 0 to 999\n",
      "Data columns (total 6 columns):\n",
      " #   Column       Non-Null Count  Dtype \n",
      "---  ------       --------------  ----- \n",
      " 0   Id           1000 non-null   int64 \n",
      " 1   BldgType     1000 non-null   object\n",
      " 2   OverallQual  1000 non-null   int64 \n",
      " 3   GrLivArea    1000 non-null   int64 \n",
      " 4   GarageArea   1000 non-null   int64 \n",
      " 5   SalePrice    1000 non-null   int64 \n",
      "dtypes: int64(5), object(1)\n",
      "memory usage: 47.0+ KB\n"
     ]
    }
   ],
   "source": [
    "train_data.info()"
   ]
  },
  {
   "cell_type": "code",
   "execution_count": 16,
   "id": "ecad209a",
   "metadata": {},
   "outputs": [
    {
     "data": {
      "text/html": [
       "<div>\n",
       "<style scoped>\n",
       "    .dataframe tbody tr th:only-of-type {\n",
       "        vertical-align: middle;\n",
       "    }\n",
       "\n",
       "    .dataframe tbody tr th {\n",
       "        vertical-align: top;\n",
       "    }\n",
       "\n",
       "    .dataframe thead th {\n",
       "        text-align: right;\n",
       "    }\n",
       "</style>\n",
       "<table border=\"1\" class=\"dataframe\">\n",
       "  <thead>\n",
       "    <tr style=\"text-align: right;\">\n",
       "      <th></th>\n",
       "      <th>Id</th>\n",
       "      <th>OverallQual</th>\n",
       "      <th>GrLivArea</th>\n",
       "      <th>GarageArea</th>\n",
       "      <th>SalePrice</th>\n",
       "    </tr>\n",
       "  </thead>\n",
       "  <tbody>\n",
       "    <tr>\n",
       "      <th>count</th>\n",
       "      <td>1000.000000</td>\n",
       "      <td>1000.000000</td>\n",
       "      <td>1000.000000</td>\n",
       "      <td>1000.000000</td>\n",
       "      <td>1000.000000</td>\n",
       "    </tr>\n",
       "    <tr>\n",
       "      <th>mean</th>\n",
       "      <td>500.500000</td>\n",
       "      <td>6.125000</td>\n",
       "      <td>1510.493000</td>\n",
       "      <td>473.350000</td>\n",
       "      <td>182284.451000</td>\n",
       "    </tr>\n",
       "    <tr>\n",
       "      <th>std</th>\n",
       "      <td>288.819436</td>\n",
       "      <td>1.383217</td>\n",
       "      <td>512.296179</td>\n",
       "      <td>208.901597</td>\n",
       "      <td>80291.215207</td>\n",
       "    </tr>\n",
       "    <tr>\n",
       "      <th>min</th>\n",
       "      <td>1.000000</td>\n",
       "      <td>1.000000</td>\n",
       "      <td>334.000000</td>\n",
       "      <td>0.000000</td>\n",
       "      <td>34900.000000</td>\n",
       "    </tr>\n",
       "    <tr>\n",
       "      <th>25%</th>\n",
       "      <td>250.750000</td>\n",
       "      <td>5.000000</td>\n",
       "      <td>1125.750000</td>\n",
       "      <td>338.000000</td>\n",
       "      <td>130000.000000</td>\n",
       "    </tr>\n",
       "    <tr>\n",
       "      <th>50%</th>\n",
       "      <td>500.500000</td>\n",
       "      <td>6.000000</td>\n",
       "      <td>1456.000000</td>\n",
       "      <td>480.000000</td>\n",
       "      <td>163995.000000</td>\n",
       "    </tr>\n",
       "    <tr>\n",
       "      <th>75%</th>\n",
       "      <td>750.250000</td>\n",
       "      <td>7.000000</td>\n",
       "      <td>1774.250000</td>\n",
       "      <td>576.000000</td>\n",
       "      <td>215000.000000</td>\n",
       "    </tr>\n",
       "    <tr>\n",
       "      <th>max</th>\n",
       "      <td>1000.000000</td>\n",
       "      <td>10.000000</td>\n",
       "      <td>4676.000000</td>\n",
       "      <td>1390.000000</td>\n",
       "      <td>755000.000000</td>\n",
       "    </tr>\n",
       "  </tbody>\n",
       "</table>\n",
       "</div>"
      ],
      "text/plain": [
       "                Id  OverallQual    GrLivArea   GarageArea      SalePrice\n",
       "count  1000.000000  1000.000000  1000.000000  1000.000000    1000.000000\n",
       "mean    500.500000     6.125000  1510.493000   473.350000  182284.451000\n",
       "std     288.819436     1.383217   512.296179   208.901597   80291.215207\n",
       "min       1.000000     1.000000   334.000000     0.000000   34900.000000\n",
       "25%     250.750000     5.000000  1125.750000   338.000000  130000.000000\n",
       "50%     500.500000     6.000000  1456.000000   480.000000  163995.000000\n",
       "75%     750.250000     7.000000  1774.250000   576.000000  215000.000000\n",
       "max    1000.000000    10.000000  4676.000000  1390.000000  755000.000000"
      ]
     },
     "execution_count": 16,
     "metadata": {},
     "output_type": "execute_result"
    }
   ],
   "source": [
    "train_data.describe()"
   ]
  },
  {
   "cell_type": "markdown",
   "id": "91f6c6ed",
   "metadata": {},
   "source": [
    "## Comments on train_data\n",
    "\n",
    "The train_data has 1000 rows and 6 columns with 1 column being the groud truth (SalePrice). Data type for each feature column seems appropriate. If necessary, the OverallQual column can be converted to category type.\n"
   ]
  },
  {
   "cell_type": "code",
   "execution_count": 17,
   "id": "675f38a9",
   "metadata": {},
   "outputs": [
    {
     "name": "stdout",
     "output_type": "stream",
     "text": [
      "<class 'pandas.core.frame.DataFrame'>\n",
      "RangeIndex: 259 entries, 0 to 258\n",
      "Data columns (total 5 columns):\n",
      " #   Column       Non-Null Count  Dtype \n",
      "---  ------       --------------  ----- \n",
      " 0   Id           259 non-null    int64 \n",
      " 1   BldgType     259 non-null    object\n",
      " 2   OverallQual  259 non-null    int64 \n",
      " 3   GrLivArea    259 non-null    int64 \n",
      " 4   GarageArea   259 non-null    int64 \n",
      "dtypes: int64(4), object(1)\n",
      "memory usage: 10.2+ KB\n"
     ]
    }
   ],
   "source": [
    "test_data.info()"
   ]
  },
  {
   "cell_type": "code",
   "execution_count": 18,
   "id": "06ca25dc",
   "metadata": {},
   "outputs": [
    {
     "data": {
      "text/html": [
       "<div>\n",
       "<style scoped>\n",
       "    .dataframe tbody tr th:only-of-type {\n",
       "        vertical-align: middle;\n",
       "    }\n",
       "\n",
       "    .dataframe tbody tr th {\n",
       "        vertical-align: top;\n",
       "    }\n",
       "\n",
       "    .dataframe thead th {\n",
       "        text-align: right;\n",
       "    }\n",
       "</style>\n",
       "<table border=\"1\" class=\"dataframe\">\n",
       "  <thead>\n",
       "    <tr style=\"text-align: right;\">\n",
       "      <th></th>\n",
       "      <th>Id</th>\n",
       "      <th>OverallQual</th>\n",
       "      <th>GrLivArea</th>\n",
       "      <th>GarageArea</th>\n",
       "    </tr>\n",
       "  </thead>\n",
       "  <tbody>\n",
       "    <tr>\n",
       "      <th>count</th>\n",
       "      <td>259.000000</td>\n",
       "      <td>259.000000</td>\n",
       "      <td>259.000000</td>\n",
       "      <td>259.000000</td>\n",
       "    </tr>\n",
       "    <tr>\n",
       "      <th>mean</th>\n",
       "      <td>1331.000000</td>\n",
       "      <td>6.081081</td>\n",
       "      <td>1548.030888</td>\n",
       "      <td>475.467181</td>\n",
       "    </tr>\n",
       "    <tr>\n",
       "      <th>std</th>\n",
       "      <td>74.911058</td>\n",
       "      <td>1.379947</td>\n",
       "      <td>560.911287</td>\n",
       "      <td>219.228602</td>\n",
       "    </tr>\n",
       "    <tr>\n",
       "      <th>min</th>\n",
       "      <td>1202.000000</td>\n",
       "      <td>3.000000</td>\n",
       "      <td>630.000000</td>\n",
       "      <td>0.000000</td>\n",
       "    </tr>\n",
       "    <tr>\n",
       "      <th>25%</th>\n",
       "      <td>1266.500000</td>\n",
       "      <td>5.000000</td>\n",
       "      <td>1148.000000</td>\n",
       "      <td>336.000000</td>\n",
       "    </tr>\n",
       "    <tr>\n",
       "      <th>50%</th>\n",
       "      <td>1331.000000</td>\n",
       "      <td>6.000000</td>\n",
       "      <td>1513.000000</td>\n",
       "      <td>484.000000</td>\n",
       "    </tr>\n",
       "    <tr>\n",
       "      <th>75%</th>\n",
       "      <td>1395.500000</td>\n",
       "      <td>7.000000</td>\n",
       "      <td>1844.000000</td>\n",
       "      <td>574.000000</td>\n",
       "    </tr>\n",
       "    <tr>\n",
       "      <th>max</th>\n",
       "      <td>1460.000000</td>\n",
       "      <td>10.000000</td>\n",
       "      <td>5642.000000</td>\n",
       "      <td>1418.000000</td>\n",
       "    </tr>\n",
       "  </tbody>\n",
       "</table>\n",
       "</div>"
      ],
      "text/plain": [
       "                Id  OverallQual    GrLivArea   GarageArea\n",
       "count   259.000000   259.000000   259.000000   259.000000\n",
       "mean   1331.000000     6.081081  1548.030888   475.467181\n",
       "std      74.911058     1.379947   560.911287   219.228602\n",
       "min    1202.000000     3.000000   630.000000     0.000000\n",
       "25%    1266.500000     5.000000  1148.000000   336.000000\n",
       "50%    1331.000000     6.000000  1513.000000   484.000000\n",
       "75%    1395.500000     7.000000  1844.000000   574.000000\n",
       "max    1460.000000    10.000000  5642.000000  1418.000000"
      ]
     },
     "execution_count": 18,
     "metadata": {},
     "output_type": "execute_result"
    }
   ],
   "source": [
    "test_data.describe()"
   ]
  },
  {
   "cell_type": "markdown",
   "id": "440ac6a3",
   "metadata": {},
   "source": [
    "# 2. Data processing"
   ]
  },
  {
   "cell_type": "code",
   "execution_count": 19,
   "id": "486d9dd0",
   "metadata": {},
   "outputs": [],
   "source": [
    "# Select the important features for training\n",
    "# Extract the SalePrice column from train_data to use as training labels.\n",
    "train_set = train_data[['BldgType','OverallQual','GrLivArea','GarageArea']]\n",
    "test_set = test_data[['BldgType','OverallQual','GrLivArea','GarageArea']]\n",
    "label = train_data[['SalePrice']]"
   ]
  },
  {
   "cell_type": "markdown",
   "id": "20fbd115",
   "metadata": {},
   "source": [
    "Convert non-integer feature (categorical) column (BldgType) into one-shot vector of length five using sklearn onehotencoder or pandas get dummies"
   ]
  },
  {
   "cell_type": "code",
   "execution_count": 20,
   "id": "e12efb24",
   "metadata": {},
   "outputs": [],
   "source": [
    "train_set = pd.get_dummies(train_set, prefix=['Bldg'], columns=['BldgType'])\n",
    "test_set = pd.get_dummies(test_set, prefix=['Bldg'], columns=['BldgType'])"
   ]
  },
  {
   "cell_type": "code",
   "execution_count": 21,
   "id": "179ee381",
   "metadata": {},
   "outputs": [
    {
     "data": {
      "text/html": [
       "<div>\n",
       "<style scoped>\n",
       "    .dataframe tbody tr th:only-of-type {\n",
       "        vertical-align: middle;\n",
       "    }\n",
       "\n",
       "    .dataframe tbody tr th {\n",
       "        vertical-align: top;\n",
       "    }\n",
       "\n",
       "    .dataframe thead th {\n",
       "        text-align: right;\n",
       "    }\n",
       "</style>\n",
       "<table border=\"1\" class=\"dataframe\">\n",
       "  <thead>\n",
       "    <tr style=\"text-align: right;\">\n",
       "      <th></th>\n",
       "      <th>OverallQual</th>\n",
       "      <th>GrLivArea</th>\n",
       "      <th>GarageArea</th>\n",
       "      <th>Bldg_1Fam</th>\n",
       "      <th>Bldg_2FmCon</th>\n",
       "      <th>Bldg_Duplx</th>\n",
       "      <th>Bldg_TwnhsE</th>\n",
       "      <th>Bldg_TwnhsI</th>\n",
       "    </tr>\n",
       "  </thead>\n",
       "  <tbody>\n",
       "    <tr>\n",
       "      <th>0</th>\n",
       "      <td>7</td>\n",
       "      <td>1710</td>\n",
       "      <td>548</td>\n",
       "      <td>1</td>\n",
       "      <td>0</td>\n",
       "      <td>0</td>\n",
       "      <td>0</td>\n",
       "      <td>0</td>\n",
       "    </tr>\n",
       "    <tr>\n",
       "      <th>1</th>\n",
       "      <td>6</td>\n",
       "      <td>1262</td>\n",
       "      <td>460</td>\n",
       "      <td>1</td>\n",
       "      <td>0</td>\n",
       "      <td>0</td>\n",
       "      <td>0</td>\n",
       "      <td>0</td>\n",
       "    </tr>\n",
       "    <tr>\n",
       "      <th>2</th>\n",
       "      <td>7</td>\n",
       "      <td>1786</td>\n",
       "      <td>608</td>\n",
       "      <td>1</td>\n",
       "      <td>0</td>\n",
       "      <td>0</td>\n",
       "      <td>0</td>\n",
       "      <td>0</td>\n",
       "    </tr>\n",
       "    <tr>\n",
       "      <th>3</th>\n",
       "      <td>7</td>\n",
       "      <td>1717</td>\n",
       "      <td>642</td>\n",
       "      <td>1</td>\n",
       "      <td>0</td>\n",
       "      <td>0</td>\n",
       "      <td>0</td>\n",
       "      <td>0</td>\n",
       "    </tr>\n",
       "    <tr>\n",
       "      <th>4</th>\n",
       "      <td>8</td>\n",
       "      <td>2198</td>\n",
       "      <td>836</td>\n",
       "      <td>1</td>\n",
       "      <td>0</td>\n",
       "      <td>0</td>\n",
       "      <td>0</td>\n",
       "      <td>0</td>\n",
       "    </tr>\n",
       "  </tbody>\n",
       "</table>\n",
       "</div>"
      ],
      "text/plain": [
       "   OverallQual  GrLivArea  GarageArea  Bldg_1Fam  Bldg_2FmCon  Bldg_Duplx  \\\n",
       "0            7       1710         548          1            0           0   \n",
       "1            6       1262         460          1            0           0   \n",
       "2            7       1786         608          1            0           0   \n",
       "3            7       1717         642          1            0           0   \n",
       "4            8       2198         836          1            0           0   \n",
       "\n",
       "   Bldg_TwnhsE  Bldg_TwnhsI  \n",
       "0            0            0  \n",
       "1            0            0  \n",
       "2            0            0  \n",
       "3            0            0  \n",
       "4            0            0  "
      ]
     },
     "execution_count": 21,
     "metadata": {},
     "output_type": "execute_result"
    }
   ],
   "source": [
    "train_set.head()"
   ]
  },
  {
   "cell_type": "code",
   "execution_count": 22,
   "id": "e21a2b96",
   "metadata": {},
   "outputs": [
    {
     "data": {
      "text/html": [
       "<div>\n",
       "<style scoped>\n",
       "    .dataframe tbody tr th:only-of-type {\n",
       "        vertical-align: middle;\n",
       "    }\n",
       "\n",
       "    .dataframe tbody tr th {\n",
       "        vertical-align: top;\n",
       "    }\n",
       "\n",
       "    .dataframe thead th {\n",
       "        text-align: right;\n",
       "    }\n",
       "</style>\n",
       "<table border=\"1\" class=\"dataframe\">\n",
       "  <thead>\n",
       "    <tr style=\"text-align: right;\">\n",
       "      <th></th>\n",
       "      <th>OverallQual</th>\n",
       "      <th>GrLivArea</th>\n",
       "      <th>GarageArea</th>\n",
       "      <th>Bldg_1Fam</th>\n",
       "      <th>Bldg_2FmCon</th>\n",
       "      <th>Bldg_Duplx</th>\n",
       "      <th>Bldg_TwnhsE</th>\n",
       "      <th>Bldg_TwnhsI</th>\n",
       "    </tr>\n",
       "  </thead>\n",
       "  <tbody>\n",
       "    <tr>\n",
       "      <th>0</th>\n",
       "      <td>7</td>\n",
       "      <td>1779</td>\n",
       "      <td>546</td>\n",
       "      <td>1</td>\n",
       "      <td>0</td>\n",
       "      <td>0</td>\n",
       "      <td>0</td>\n",
       "      <td>0</td>\n",
       "    </tr>\n",
       "    <tr>\n",
       "      <th>1</th>\n",
       "      <td>5</td>\n",
       "      <td>1348</td>\n",
       "      <td>216</td>\n",
       "      <td>1</td>\n",
       "      <td>0</td>\n",
       "      <td>0</td>\n",
       "      <td>0</td>\n",
       "      <td>0</td>\n",
       "    </tr>\n",
       "    <tr>\n",
       "      <th>2</th>\n",
       "      <td>7</td>\n",
       "      <td>1630</td>\n",
       "      <td>451</td>\n",
       "      <td>1</td>\n",
       "      <td>0</td>\n",
       "      <td>0</td>\n",
       "      <td>0</td>\n",
       "      <td>0</td>\n",
       "    </tr>\n",
       "    <tr>\n",
       "      <th>3</th>\n",
       "      <td>5</td>\n",
       "      <td>1074</td>\n",
       "      <td>495</td>\n",
       "      <td>1</td>\n",
       "      <td>0</td>\n",
       "      <td>0</td>\n",
       "      <td>0</td>\n",
       "      <td>0</td>\n",
       "    </tr>\n",
       "    <tr>\n",
       "      <th>4</th>\n",
       "      <td>7</td>\n",
       "      <td>2196</td>\n",
       "      <td>701</td>\n",
       "      <td>1</td>\n",
       "      <td>0</td>\n",
       "      <td>0</td>\n",
       "      <td>0</td>\n",
       "      <td>0</td>\n",
       "    </tr>\n",
       "  </tbody>\n",
       "</table>\n",
       "</div>"
      ],
      "text/plain": [
       "   OverallQual  GrLivArea  GarageArea  Bldg_1Fam  Bldg_2FmCon  Bldg_Duplx  \\\n",
       "0            7       1779         546          1            0           0   \n",
       "1            5       1348         216          1            0           0   \n",
       "2            7       1630         451          1            0           0   \n",
       "3            5       1074         495          1            0           0   \n",
       "4            7       2196         701          1            0           0   \n",
       "\n",
       "   Bldg_TwnhsE  Bldg_TwnhsI  \n",
       "0            0            0  \n",
       "1            0            0  \n",
       "2            0            0  \n",
       "3            0            0  \n",
       "4            0            0  "
      ]
     },
     "execution_count": 22,
     "metadata": {},
     "output_type": "execute_result"
    }
   ],
   "source": [
    "test_set.head()"
   ]
  },
  {
   "cell_type": "markdown",
   "id": "b57c9f1b",
   "metadata": {},
   "source": [
    "# 3. Machine Learning\n",
    "\n",
    "Train a linear regression model using train_set and predict the sales price of test_set using the model."
   ]
  },
  {
   "cell_type": "code",
   "execution_count": 24,
   "id": "ee32a742",
   "metadata": {},
   "outputs": [
    {
     "name": "stdout",
     "output_type": "stream",
     "text": [
      "Coefficients:  [[ 26839.24253343     55.1245916      74.47188986  11903.72470001\n",
      "    3306.79982314  -5266.13082981   5420.4386258  -15364.83231914]]\n"
     ]
    }
   ],
   "source": [
    "from sklearn import linear_model\n",
    "from sklearn.metrics import mean_squared_error, r2_score\n",
    "\n",
    "lr = linear_model.LinearRegression()\n",
    "lr.fit(train_set, label)\n",
    "print(\"Coefficients: \", lr.coef_)"
   ]
  },
  {
   "cell_type": "code",
   "execution_count": 25,
   "id": "6d6c9ca7",
   "metadata": {},
   "outputs": [
    {
     "name": "stdout",
     "output_type": "stream",
     "text": [
      "(259, 1)\n"
     ]
    }
   ],
   "source": [
    "# Make predictions using test_set\n",
    "label_pred = lr.predict(test_set)\n",
    "print(label_pred.shape)"
   ]
  },
  {
   "cell_type": "code",
   "execution_count": 27,
   "id": "b06b85d4",
   "metadata": {},
   "outputs": [
    {
     "data": {
      "text/html": [
       "<div>\n",
       "<style scoped>\n",
       "    .dataframe tbody tr th:only-of-type {\n",
       "        vertical-align: middle;\n",
       "    }\n",
       "\n",
       "    .dataframe tbody tr th {\n",
       "        vertical-align: top;\n",
       "    }\n",
       "\n",
       "    .dataframe thead th {\n",
       "        text-align: right;\n",
       "    }\n",
       "</style>\n",
       "<table border=\"1\" class=\"dataframe\">\n",
       "  <thead>\n",
       "    <tr style=\"text-align: right;\">\n",
       "      <th></th>\n",
       "      <th>Id</th>\n",
       "      <th>SalePrice</th>\n",
       "    </tr>\n",
       "  </thead>\n",
       "  <tbody>\n",
       "    <tr>\n",
       "      <th>0</th>\n",
       "      <td>1202</td>\n",
       "      <td>NaN</td>\n",
       "    </tr>\n",
       "    <tr>\n",
       "      <th>1</th>\n",
       "      <td>1203</td>\n",
       "      <td>NaN</td>\n",
       "    </tr>\n",
       "    <tr>\n",
       "      <th>2</th>\n",
       "      <td>1204</td>\n",
       "      <td>NaN</td>\n",
       "    </tr>\n",
       "    <tr>\n",
       "      <th>3</th>\n",
       "      <td>1205</td>\n",
       "      <td>NaN</td>\n",
       "    </tr>\n",
       "    <tr>\n",
       "      <th>4</th>\n",
       "      <td>1206</td>\n",
       "      <td>NaN</td>\n",
       "    </tr>\n",
       "  </tbody>\n",
       "</table>\n",
       "</div>"
      ],
      "text/plain": [
       "     Id  SalePrice\n",
       "0  1202        NaN\n",
       "1  1203        NaN\n",
       "2  1204        NaN\n",
       "3  1205        NaN\n",
       "4  1206        NaN"
      ]
     },
     "execution_count": 27,
     "metadata": {},
     "output_type": "execute_result"
    }
   ],
   "source": [
    "# Save label_pred to submission.csv\n",
    "submission = pd.read_csv(\"D://Datasets/Housing_Price_Dataset/submission.csv\")\n",
    "submission.head()"
   ]
  },
  {
   "cell_type": "code",
   "execution_count": 28,
   "id": "3212d8f7",
   "metadata": {},
   "outputs": [],
   "source": [
    "submission['SalePrice'] = label_pred\n",
    "submission.to_csv(\"D://Datasets/Housing_Price_Dataset/submission_fill.csv\")"
   ]
  },
  {
   "cell_type": "markdown",
   "id": "de9378d3",
   "metadata": {},
   "source": [
    "# 4. Analysis on predicted sales price\n",
    "\n",
    "Using pandasql.sqldf"
   ]
  },
  {
   "cell_type": "code",
   "execution_count": 3,
   "id": "12ad1509",
   "metadata": {},
   "outputs": [
    {
     "name": "stdout",
     "output_type": "stream",
     "text": [
      "<class 'pandas.core.frame.DataFrame'>\n",
      "RangeIndex: 259 entries, 0 to 258\n",
      "Data columns (total 6 columns):\n",
      " #   Column          Non-Null Count  Dtype  \n",
      "---  ------          --------------  -----  \n",
      " 0   Id              259 non-null    int64  \n",
      " 1   BldgType        259 non-null    object \n",
      " 2   OverallQual     259 non-null    int64  \n",
      " 3   GrLivArea       259 non-null    int64  \n",
      " 4   GarageArea      259 non-null    int64  \n",
      " 5   SalePrice_Pred  259 non-null    float64\n",
      "dtypes: float64(1), int64(4), object(1)\n",
      "memory usage: 12.3+ KB\n"
     ]
    }
   ],
   "source": [
    "# Join predicted labels to test_set\n",
    "submission = pd.read_csv(\"D://Datasets/Housing_Price_Dataset/submission_fill.csv\")\n",
    "test_set = pd.read_csv(\"D://Datasets/Housing_Price_Dataset/test.csv\")\n",
    "test_set['SalePrice_Pred'] = submission['SalePrice']\n",
    "test_set.info()"
   ]
  },
  {
   "cell_type": "code",
   "execution_count": 7,
   "id": "9277ecd4",
   "metadata": {},
   "outputs": [
    {
     "data": {
      "text/html": [
       "<div>\n",
       "<style scoped>\n",
       "    .dataframe tbody tr th:only-of-type {\n",
       "        vertical-align: middle;\n",
       "    }\n",
       "\n",
       "    .dataframe tbody tr th {\n",
       "        vertical-align: top;\n",
       "    }\n",
       "\n",
       "    .dataframe thead th {\n",
       "        text-align: right;\n",
       "    }\n",
       "</style>\n",
       "<table border=\"1\" class=\"dataframe\">\n",
       "  <thead>\n",
       "    <tr style=\"text-align: right;\">\n",
       "      <th></th>\n",
       "      <th>NumExpensiveOrder</th>\n",
       "    </tr>\n",
       "  </thead>\n",
       "  <tbody>\n",
       "    <tr>\n",
       "      <th>0</th>\n",
       "      <td>38</td>\n",
       "    </tr>\n",
       "  </tbody>\n",
       "</table>\n",
       "</div>"
      ],
      "text/plain": [
       "   NumExpensiveOrder\n",
       "0                 38"
      ]
     },
     "execution_count": 7,
     "metadata": {},
     "output_type": "execute_result"
    }
   ],
   "source": [
    "# Find out how many of these 259 test samples are predicted to be more expensive than $250000\n",
    "more_than_250000_query = \"SELECT COUNT(Id) AS NumExpensiveOrder FROM test_set WHERE SalePrice_Pred > 250000\"\n",
    "df = sqldf(more_than_250000_query)\n",
    "df.head()"
   ]
  },
  {
   "cell_type": "code",
   "execution_count": 8,
   "id": "62700237",
   "metadata": {},
   "outputs": [
    {
     "name": "stdout",
     "output_type": "stream",
     "text": [
      "(38, 6)\n"
     ]
    },
    {
     "data": {
      "text/html": [
       "<div>\n",
       "<style scoped>\n",
       "    .dataframe tbody tr th:only-of-type {\n",
       "        vertical-align: middle;\n",
       "    }\n",
       "\n",
       "    .dataframe tbody tr th {\n",
       "        vertical-align: top;\n",
       "    }\n",
       "\n",
       "    .dataframe thead th {\n",
       "        text-align: right;\n",
       "    }\n",
       "</style>\n",
       "<table border=\"1\" class=\"dataframe\">\n",
       "  <thead>\n",
       "    <tr style=\"text-align: right;\">\n",
       "      <th></th>\n",
       "      <th>Id</th>\n",
       "      <th>BldgType</th>\n",
       "      <th>OverallQual</th>\n",
       "      <th>GrLivArea</th>\n",
       "      <th>GarageArea</th>\n",
       "      <th>SalePrice_Pred</th>\n",
       "    </tr>\n",
       "  </thead>\n",
       "  <tbody>\n",
       "    <tr>\n",
       "      <th>0</th>\n",
       "      <td>1206</td>\n",
       "      <td>1Fam</td>\n",
       "      <td>7</td>\n",
       "      <td>2196</td>\n",
       "      <td>701</td>\n",
       "      <td>262603.486034</td>\n",
       "    </tr>\n",
       "    <tr>\n",
       "      <th>1</th>\n",
       "      <td>1229</td>\n",
       "      <td>TwnhsE</td>\n",
       "      <td>9</td>\n",
       "      <td>1702</td>\n",
       "      <td>1052</td>\n",
       "      <td>308706.770118</td>\n",
       "    </tr>\n",
       "    <tr>\n",
       "      <th>2</th>\n",
       "      <td>1242</td>\n",
       "      <td>1Fam</td>\n",
       "      <td>7</td>\n",
       "      <td>1689</td>\n",
       "      <td>954</td>\n",
       "      <td>253496.706229</td>\n",
       "    </tr>\n",
       "    <tr>\n",
       "      <th>3</th>\n",
       "      <td>1244</td>\n",
       "      <td>1Fam</td>\n",
       "      <td>10</td>\n",
       "      <td>2076</td>\n",
       "      <td>850</td>\n",
       "      <td>347602.574232</td>\n",
       "    </tr>\n",
       "    <tr>\n",
       "      <th>4</th>\n",
       "      <td>1257</td>\n",
       "      <td>1Fam</td>\n",
       "      <td>8</td>\n",
       "      <td>1987</td>\n",
       "      <td>691</td>\n",
       "      <td>277176.970026</td>\n",
       "    </tr>\n",
       "  </tbody>\n",
       "</table>\n",
       "</div>"
      ],
      "text/plain": [
       "     Id BldgType  OverallQual  GrLivArea  GarageArea  SalePrice_Pred\n",
       "0  1206     1Fam            7       2196         701   262603.486034\n",
       "1  1229   TwnhsE            9       1702        1052   308706.770118\n",
       "2  1242     1Fam            7       1689         954   253496.706229\n",
       "3  1244     1Fam           10       2076         850   347602.574232\n",
       "4  1257     1Fam            8       1987         691   277176.970026"
      ]
     },
     "execution_count": 8,
     "metadata": {},
     "output_type": "execute_result"
    }
   ],
   "source": [
    "# Find how many of these expensive samples have GarageArea>700, GrLivArea>2000, and OverallQual>8\n",
    "# Create a dataframe with all columns which SalePrice_Pred > 250000\n",
    "expensive_query = \"SELECT * FROM test_set WHERE SalePrice_Pred > 250000\"\n",
    "df_expensive = sqldf(expensive_query)\n",
    "print(df_expensive.shape)\n",
    "df_expensive.head()"
   ]
  },
  {
   "cell_type": "code",
   "execution_count": 10,
   "id": "8b92c996",
   "metadata": {},
   "outputs": [
    {
     "name": "stdout",
     "output_type": "stream",
     "text": [
      "(6, 6)\n"
     ]
    },
    {
     "data": {
      "text/html": [
       "<div>\n",
       "<style scoped>\n",
       "    .dataframe tbody tr th:only-of-type {\n",
       "        vertical-align: middle;\n",
       "    }\n",
       "\n",
       "    .dataframe tbody tr th {\n",
       "        vertical-align: top;\n",
       "    }\n",
       "\n",
       "    .dataframe thead th {\n",
       "        text-align: right;\n",
       "    }\n",
       "</style>\n",
       "<table border=\"1\" class=\"dataframe\">\n",
       "  <thead>\n",
       "    <tr style=\"text-align: right;\">\n",
       "      <th></th>\n",
       "      <th>Id</th>\n",
       "      <th>BldgType</th>\n",
       "      <th>OverallQual</th>\n",
       "      <th>GrLivArea</th>\n",
       "      <th>GarageArea</th>\n",
       "      <th>SalePrice_Pred</th>\n",
       "    </tr>\n",
       "  </thead>\n",
       "  <tbody>\n",
       "    <tr>\n",
       "      <th>0</th>\n",
       "      <td>1299</td>\n",
       "      <td>1Fam</td>\n",
       "      <td>10</td>\n",
       "      <td>5642</td>\n",
       "      <td>1418</td>\n",
       "      <td>586476.901303</td>\n",
       "    </tr>\n",
       "    <tr>\n",
       "      <th>1</th>\n",
       "      <td>1374</td>\n",
       "      <td>1Fam</td>\n",
       "      <td>10</td>\n",
       "      <td>2633</td>\n",
       "      <td>804</td>\n",
       "      <td>374881.264818</td>\n",
       "    </tr>\n",
       "    <tr>\n",
       "      <th>2</th>\n",
       "      <td>1244</td>\n",
       "      <td>1Fam</td>\n",
       "      <td>10</td>\n",
       "      <td>2076</td>\n",
       "      <td>850</td>\n",
       "      <td>347602.574232</td>\n",
       "    </tr>\n",
       "    <tr>\n",
       "      <th>3</th>\n",
       "      <td>1314</td>\n",
       "      <td>1Fam</td>\n",
       "      <td>9</td>\n",
       "      <td>2599</td>\n",
       "      <td>779</td>\n",
       "      <td>344305.988923</td>\n",
       "    </tr>\n",
       "    <tr>\n",
       "      <th>4</th>\n",
       "      <td>1443</td>\n",
       "      <td>1Fam</td>\n",
       "      <td>10</td>\n",
       "      <td>2007</td>\n",
       "      <td>812</td>\n",
       "      <td>340969.045597</td>\n",
       "    </tr>\n",
       "  </tbody>\n",
       "</table>\n",
       "</div>"
      ],
      "text/plain": [
       "     Id BldgType  OverallQual  GrLivArea  GarageArea  SalePrice_Pred\n",
       "0  1299     1Fam           10       5642        1418   586476.901303\n",
       "1  1374     1Fam           10       2633         804   374881.264818\n",
       "2  1244     1Fam           10       2076         850   347602.574232\n",
       "3  1314     1Fam            9       2599         779   344305.988923\n",
       "4  1443     1Fam           10       2007         812   340969.045597"
      ]
     },
     "execution_count": 10,
     "metadata": {},
     "output_type": "execute_result"
    }
   ],
   "source": [
    "query = \"SELECT * FROM df_expensive \\\n",
    "        WHERE GarageArea>700 AND GrLivArea>2000 AND OverallQual>8 \\\n",
    "        ORDER BY SalePrice_Pred DESC\"\n",
    "df_selected = sqldf(query)\n",
    "print(df_selected.shape)\n",
    "df_selected.head()"
   ]
  },
  {
   "cell_type": "markdown",
   "id": "c5a0a494",
   "metadata": {},
   "source": [
    "## Find out what is the most dominant factor for high housing price"
   ]
  },
  {
   "cell_type": "code",
   "execution_count": 12,
   "id": "fc465c03",
   "metadata": {},
   "outputs": [
    {
     "name": "stdout",
     "output_type": "stream",
     "text": [
      "                      Id  OverallQual  GrLivArea  GarageArea  SalePrice_Pred\n",
      "Id              1.000000    -0.025871  -0.005964    0.000835       -0.014368\n",
      "OverallQual    -0.025871     1.000000   0.554441    0.575100        0.890547\n",
      "GrLivArea      -0.005964     0.554441   1.000000    0.513178        0.834453\n",
      "GarageArea      0.000835     0.575100   0.513178    1.000000        0.751442\n",
      "SalePrice_Pred -0.014368     0.890547   0.834453    0.751442        1.000000\n"
     ]
    }
   ],
   "source": [
    "# Explore the correlation between numeric features\n",
    "print(test_set.corr())"
   ]
  },
  {
   "cell_type": "markdown",
   "id": "8f2a66e4",
   "metadata": {},
   "source": [
    "## Analysis on correlation:\n",
    "\n",
    "OverallQual has the strong correlation with SalePrice_Pred. Therefore it is the most dominant factor for high housing price."
   ]
  },
  {
   "cell_type": "code",
   "execution_count": 13,
   "id": "9915d1af",
   "metadata": {},
   "outputs": [
    {
     "data": {
      "image/png": "[encoded data removed]",
      "text/plain": [
       "<Figure size 640x480 with 1 Axes>"
      ]
     },
     "metadata": {},
     "output_type": "display_data"
    }
   ],
   "source": [
    "# Explore the correlation using a plot\n",
    "sns.scatterplot(data=test_set, x='OverallQual', y='SalePrice_Pred', hue='BldgType')\n",
    "plt.show()"
   ]
  },
  {
   "cell_type": "code",
   "execution_count": 19,
   "id": "0ae6b4fb",
   "metadata": {},
   "outputs": [
    {
     "data": {
      "image/png": "[encoded data removed]",
      "text/plain": [
       "<Figure size 2602.97x500 with 5 Axes>"
      ]
     },
     "metadata": {},
     "output_type": "display_data"
    }
   ],
   "source": [
    "# Assign each plot for each BldgTpe and different marker size for GarageArea\n",
    "sns.set(rc={\"figure.figsize\":(8,4)})\n",
    "sns.relplot(data=test_set, x='OverallQual', y='SalePrice_Pred', size='GarageArea', col='BldgType', kind='scatter')\n",
    "plt.show()"
   ]
  },
  {
   "cell_type": "code",
   "execution_count": null,
   "id": "5fd0a79f",
   "metadata": {},
   "outputs": [],
   "source": []
  }
 ],
 "metadata": {
  "kernelspec": {
   "display_name": "Python 3 (ipykernel)",
   "language": "python",
   "name": "python3"
  },
  "language_info": {
   "codemirror_mode": {
    "name": "ipython",
    "version": 3
   },
   "file_extension": ".py",
   "mimetype": "text/x-python",
   "name": "python",
   "nbconvert_exporter": "python",
   "pygments_lexer": "ipython3",
   "version": "3.9.13"
  }
 },
 "nbformat": 4,
 "nbformat_minor": 5
}
